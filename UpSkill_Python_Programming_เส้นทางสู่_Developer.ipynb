{
  "nbformat": 4,
  "nbformat_minor": 0,
  "metadata": {
    "colab": {
      "provenance": [],
      "authorship_tag": "ABX9TyNYKMQ60PB67T5PhFm+bxIC",
      "include_colab_link": true
    },
    "kernelspec": {
      "name": "python3",
      "display_name": "Python 3"
    },
    "language_info": {
      "name": "python"
    }
  },
  "cells": [
    {
      "cell_type": "markdown",
      "metadata": {
        "id": "view-in-github",
        "colab_type": "text"
      },
      "source": [
        "<a href=\"https://colab.research.google.com/github/DerbSwag/DerbSwag/blob/main/UpSkill_Python_Programming_%E0%B9%80%E0%B8%AA%E0%B9%89%E0%B8%99%E0%B8%97%E0%B8%B2%E0%B8%87%E0%B8%AA%E0%B8%B9%E0%B9%88_Developer.ipynb\" target=\"_parent\"><img src=\"https://colab.research.google.com/assets/colab-badge.svg\" alt=\"Open In Colab\"/></a>"
      ]
    },
    {
      "cell_type": "markdown",
      "source": [
        "หาค่า BMI\n",
        "\n"
      ],
      "metadata": {
        "id": "7YEux-6k6Y2_"
      }
    },
    {
      "cell_type": "code",
      "source": [
        "%%writefile calculate.py\n",
        "def calculateBMI(weight, height):\n",
        "    return (weight/height/height)*10000\n"
      ],
      "metadata": {
        "colab": {
          "base_uri": "https://localhost:8080/"
        },
        "id": "WnhELFi59OyH",
        "outputId": "b973941e-7cf9-4de4-d078-d580c77bf151"
      },
      "execution_count": null,
      "outputs": [
        {
          "output_type": "stream",
          "name": "stdout",
          "text": [
            "Writing calculate.py\n"
          ]
        }
      ]
    },
    {
      "cell_type": "code",
      "execution_count": null,
      "metadata": {
        "colab": {
          "base_uri": "https://localhost:8080/"
        },
        "outputId": "e6381a53-c342-4541-c847-9a951743bc66",
        "id": "YO56_2f80EWm"
      },
      "outputs": [
        {
          "output_type": "stream",
          "name": "stdout",
          "text": [
            "What is your height in cm:170\n",
            "What is your weight in kg:75\n",
            "BMI Of  25\n"
          ]
        }
      ],
      "source": [
        "import calculate\n",
        "height = int(input(\"What is your height in cm:\"))\n",
        "weight = int(input(\"What is your weight in kg:\"))\n",
        "BMI = int(weight/height/height*10000)\n",
        "print(\"BMI Of \", int(calculate.calculateBMI(weight,height)))\n"
      ]
    },
    {
      "cell_type": "markdown",
      "source": [],
      "metadata": {
        "id": "jZdKfMGZ5oaq"
      }
    }
  ]
}